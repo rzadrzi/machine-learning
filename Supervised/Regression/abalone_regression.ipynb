{
 "cells": [
  {
   "cell_type": "markdown",
   "id": "dc52d103-e9a5-4d44-8e02-19e26ba359e9",
   "metadata": {},
   "source": [
    "# Regression\n",
    "This analysis is divided into several parts.\n",
    "1) In the first section, we have imported the necessary libraries.\n",
    "2) In the next section, we imported the dataset."
   ]
  },
  {
   "cell_type": "markdown",
   "id": "4aabdd34-a7b3-4023-8d01-ca9eaab34a13",
   "metadata": {},
   "source": [
    "# Abalone Dataset\n",
    "Predicting the age of abalone from physical measurements.  The age of abalone is determined by cutting the shell through the cone, staining it, and counting the number of rings through a microscope -- a boring and time-consuming task.  Other measurements, which are easier to obtain, are used to predict the age.  Further information, such as weather patterns and location (hence food availability) may be required to solve the problem.\n",
    "\n",
    "From the original data examples with missing values were removed (the majority having the predicted value missing), and the ranges of the continuous values have been scaled for use with an ANN (by dividing by 200).\n",
    "\n",
    "[Get Dataset](https://archive.ics.uci.edu/dataset/1/abalone)"
   ]
  },
  {
   "cell_type": "markdown",
   "id": "5fbe42a8-617c-4622-b680-804f13c1e60f",
   "metadata": {},
   "source": [
    "| Variable Name        | Role           | Type  |Description|Units\t| Missing Values|\n",
    "| ------------- |:-------------:| :-------------:|:-------------:|:-------------:|-----:|\n",
    "| Sex     | Feature | Categorical |M, F, and I (infant) | |no|\n",
    "| Length  | Feature | Continuous |Longest shell measurement |mm |no|\n",
    "| Diameter |\tFeature\t| Continuous |\tperpendicular to length |\tmm |\tno|\n",
    "| Height |\tFeature |\tContinuous |\twith meat in shell |\tmm |\tno|\n",
    "|Whole_weight\t| Feature |\tContinuous |\twhole abalone |\tgrams\t| no |\n",
    "| Shucked_weight\t| Feature |\tContinuous |\tweight of meat |\tgrams |\tno |\n",
    "| Viscera_weight\t| Feature |\tContinuous\t| gut weight (after bleeding) |\tgrams |\tno |\n",
    "| Shell_weight |\tFeature\t| Continuous |\tafter being dried |\tgrams |\tno |\n",
    "| Rings |\tTarget |\tInteger |\t+1.5 gives the age in years| |\t\tno|\n"
   ]
  },
  {
   "cell_type": "markdown",
   "id": "cc78b585",
   "metadata": {},
   "source": [
    "## Import libraries"
   ]
  },
  {
   "cell_type": "code",
   "execution_count": 1,
   "id": "179dfbe1-e7cc-4f97-bedc-7ad8bebf898a",
   "metadata": {},
   "outputs": [],
   "source": [
    "import numpy as np\n",
    "import pandas as pd\n",
    "import matplotlib.pyplot as plt\n",
    "import seaborn as sn\n",
    "from sklearn import preprocessing\n",
    "from sklearn.model_selection import train_test_split\n",
    "from sklearn import linear_model\n",
    "from sklearn import tree\n",
    "from sklearn import ensemble \n",
    "from sklearn.metrics import mean_squared_error\n"
   ]
  },
  {
   "cell_type": "markdown",
   "id": "67d4d054",
   "metadata": {},
   "source": [
    "## Load Dataset "
   ]
  },
  {
   "cell_type": "code",
   "execution_count": 2,
   "id": "ddff4731-518f-4e1d-8fce-e72e7480c2fd",
   "metadata": {},
   "outputs": [
    {
     "data": {
      "text/html": [
       "<div>\n",
       "<style scoped>\n",
       "    .dataframe tbody tr th:only-of-type {\n",
       "        vertical-align: middle;\n",
       "    }\n",
       "\n",
       "    .dataframe tbody tr th {\n",
       "        vertical-align: top;\n",
       "    }\n",
       "\n",
       "    .dataframe thead th {\n",
       "        text-align: right;\n",
       "    }\n",
       "</style>\n",
       "<table border=\"1\" class=\"dataframe\">\n",
       "  <thead>\n",
       "    <tr style=\"text-align: right;\">\n",
       "      <th></th>\n",
       "      <th>Sex</th>\n",
       "      <th>Length</th>\n",
       "      <th>Diameter</th>\n",
       "      <th>Height</th>\n",
       "      <th>Whole_weight</th>\n",
       "      <th>Shucked_weight</th>\n",
       "      <th>Viscera_weight</th>\n",
       "      <th>Shell_weight</th>\n",
       "      <th>Rings</th>\n",
       "    </tr>\n",
       "  </thead>\n",
       "  <tbody>\n",
       "    <tr>\n",
       "      <th>0</th>\n",
       "      <td>M</td>\n",
       "      <td>0.455</td>\n",
       "      <td>0.365</td>\n",
       "      <td>0.095</td>\n",
       "      <td>0.5140</td>\n",
       "      <td>0.2245</td>\n",
       "      <td>0.1010</td>\n",
       "      <td>0.150</td>\n",
       "      <td>15</td>\n",
       "    </tr>\n",
       "    <tr>\n",
       "      <th>1</th>\n",
       "      <td>M</td>\n",
       "      <td>0.350</td>\n",
       "      <td>0.265</td>\n",
       "      <td>0.090</td>\n",
       "      <td>0.2255</td>\n",
       "      <td>0.0995</td>\n",
       "      <td>0.0485</td>\n",
       "      <td>0.070</td>\n",
       "      <td>7</td>\n",
       "    </tr>\n",
       "    <tr>\n",
       "      <th>2</th>\n",
       "      <td>F</td>\n",
       "      <td>0.530</td>\n",
       "      <td>0.420</td>\n",
       "      <td>0.135</td>\n",
       "      <td>0.6770</td>\n",
       "      <td>0.2565</td>\n",
       "      <td>0.1415</td>\n",
       "      <td>0.210</td>\n",
       "      <td>9</td>\n",
       "    </tr>\n",
       "    <tr>\n",
       "      <th>3</th>\n",
       "      <td>M</td>\n",
       "      <td>0.440</td>\n",
       "      <td>0.365</td>\n",
       "      <td>0.125</td>\n",
       "      <td>0.5160</td>\n",
       "      <td>0.2155</td>\n",
       "      <td>0.1140</td>\n",
       "      <td>0.155</td>\n",
       "      <td>10</td>\n",
       "    </tr>\n",
       "    <tr>\n",
       "      <th>4</th>\n",
       "      <td>I</td>\n",
       "      <td>0.330</td>\n",
       "      <td>0.255</td>\n",
       "      <td>0.080</td>\n",
       "      <td>0.2050</td>\n",
       "      <td>0.0895</td>\n",
       "      <td>0.0395</td>\n",
       "      <td>0.055</td>\n",
       "      <td>7</td>\n",
       "    </tr>\n",
       "  </tbody>\n",
       "</table>\n",
       "</div>"
      ],
      "text/plain": [
       "  Sex  Length  Diameter  Height  Whole_weight  Shucked_weight  Viscera_weight  \\\n",
       "0   M   0.455     0.365   0.095        0.5140          0.2245          0.1010   \n",
       "1   M   0.350     0.265   0.090        0.2255          0.0995          0.0485   \n",
       "2   F   0.530     0.420   0.135        0.6770          0.2565          0.1415   \n",
       "3   M   0.440     0.365   0.125        0.5160          0.2155          0.1140   \n",
       "4   I   0.330     0.255   0.080        0.2050          0.0895          0.0395   \n",
       "\n",
       "   Shell_weight  Rings  \n",
       "0         0.150     15  \n",
       "1         0.070      7  \n",
       "2         0.210      9  \n",
       "3         0.155     10  \n",
       "4         0.055      7  "
      ]
     },
     "execution_count": 2,
     "metadata": {},
     "output_type": "execute_result"
    }
   ],
   "source": [
    "df = pd.read_csv(\"./data/abalone/abalone.csv\")\n",
    "df.head()"
   ]
  },
  {
   "cell_type": "markdown",
   "id": "b3083f63-6755-4f4a-94d0-f3a91d7f24cf",
   "metadata": {},
   "source": [
    "## Data Exploration"
   ]
  },
  {
   "cell_type": "code",
   "execution_count": 3,
   "id": "f7126b3a-ea4c-4ad5-bb13-c803084d7dc6",
   "metadata": {},
   "outputs": [
    {
     "data": {
      "text/html": [
       "<div>\n",
       "<style scoped>\n",
       "    .dataframe tbody tr th:only-of-type {\n",
       "        vertical-align: middle;\n",
       "    }\n",
       "\n",
       "    .dataframe tbody tr th {\n",
       "        vertical-align: top;\n",
       "    }\n",
       "\n",
       "    .dataframe thead th {\n",
       "        text-align: right;\n",
       "    }\n",
       "</style>\n",
       "<table border=\"1\" class=\"dataframe\">\n",
       "  <thead>\n",
       "    <tr style=\"text-align: right;\">\n",
       "      <th></th>\n",
       "      <th>Length</th>\n",
       "      <th>Diameter</th>\n",
       "      <th>Height</th>\n",
       "      <th>Whole_weight</th>\n",
       "      <th>Shucked_weight</th>\n",
       "      <th>Viscera_weight</th>\n",
       "      <th>Shell_weight</th>\n",
       "      <th>Rings</th>\n",
       "    </tr>\n",
       "  </thead>\n",
       "  <tbody>\n",
       "    <tr>\n",
       "      <th>count</th>\n",
       "      <td>4177.000000</td>\n",
       "      <td>4177.000000</td>\n",
       "      <td>4177.000000</td>\n",
       "      <td>4177.000000</td>\n",
       "      <td>4177.000000</td>\n",
       "      <td>4177.000000</td>\n",
       "      <td>4177.000000</td>\n",
       "      <td>4177.000000</td>\n",
       "    </tr>\n",
       "    <tr>\n",
       "      <th>mean</th>\n",
       "      <td>0.523992</td>\n",
       "      <td>0.407881</td>\n",
       "      <td>0.139516</td>\n",
       "      <td>0.828742</td>\n",
       "      <td>0.359367</td>\n",
       "      <td>0.180594</td>\n",
       "      <td>0.238831</td>\n",
       "      <td>9.933684</td>\n",
       "    </tr>\n",
       "    <tr>\n",
       "      <th>std</th>\n",
       "      <td>0.120093</td>\n",
       "      <td>0.099240</td>\n",
       "      <td>0.041827</td>\n",
       "      <td>0.490389</td>\n",
       "      <td>0.221963</td>\n",
       "      <td>0.109614</td>\n",
       "      <td>0.139203</td>\n",
       "      <td>3.224169</td>\n",
       "    </tr>\n",
       "    <tr>\n",
       "      <th>min</th>\n",
       "      <td>0.075000</td>\n",
       "      <td>0.055000</td>\n",
       "      <td>0.000000</td>\n",
       "      <td>0.002000</td>\n",
       "      <td>0.001000</td>\n",
       "      <td>0.000500</td>\n",
       "      <td>0.001500</td>\n",
       "      <td>1.000000</td>\n",
       "    </tr>\n",
       "    <tr>\n",
       "      <th>25%</th>\n",
       "      <td>0.450000</td>\n",
       "      <td>0.350000</td>\n",
       "      <td>0.115000</td>\n",
       "      <td>0.441500</td>\n",
       "      <td>0.186000</td>\n",
       "      <td>0.093500</td>\n",
       "      <td>0.130000</td>\n",
       "      <td>8.000000</td>\n",
       "    </tr>\n",
       "    <tr>\n",
       "      <th>50%</th>\n",
       "      <td>0.545000</td>\n",
       "      <td>0.425000</td>\n",
       "      <td>0.140000</td>\n",
       "      <td>0.799500</td>\n",
       "      <td>0.336000</td>\n",
       "      <td>0.171000</td>\n",
       "      <td>0.234000</td>\n",
       "      <td>9.000000</td>\n",
       "    </tr>\n",
       "    <tr>\n",
       "      <th>75%</th>\n",
       "      <td>0.615000</td>\n",
       "      <td>0.480000</td>\n",
       "      <td>0.165000</td>\n",
       "      <td>1.153000</td>\n",
       "      <td>0.502000</td>\n",
       "      <td>0.253000</td>\n",
       "      <td>0.329000</td>\n",
       "      <td>11.000000</td>\n",
       "    </tr>\n",
       "    <tr>\n",
       "      <th>max</th>\n",
       "      <td>0.815000</td>\n",
       "      <td>0.650000</td>\n",
       "      <td>1.130000</td>\n",
       "      <td>2.825500</td>\n",
       "      <td>1.488000</td>\n",
       "      <td>0.760000</td>\n",
       "      <td>1.005000</td>\n",
       "      <td>29.000000</td>\n",
       "    </tr>\n",
       "  </tbody>\n",
       "</table>\n",
       "</div>"
      ],
      "text/plain": [
       "            Length     Diameter       Height  Whole_weight  Shucked_weight  \\\n",
       "count  4177.000000  4177.000000  4177.000000   4177.000000     4177.000000   \n",
       "mean      0.523992     0.407881     0.139516      0.828742        0.359367   \n",
       "std       0.120093     0.099240     0.041827      0.490389        0.221963   \n",
       "min       0.075000     0.055000     0.000000      0.002000        0.001000   \n",
       "25%       0.450000     0.350000     0.115000      0.441500        0.186000   \n",
       "50%       0.545000     0.425000     0.140000      0.799500        0.336000   \n",
       "75%       0.615000     0.480000     0.165000      1.153000        0.502000   \n",
       "max       0.815000     0.650000     1.130000      2.825500        1.488000   \n",
       "\n",
       "       Viscera_weight  Shell_weight        Rings  \n",
       "count     4177.000000   4177.000000  4177.000000  \n",
       "mean         0.180594      0.238831     9.933684  \n",
       "std          0.109614      0.139203     3.224169  \n",
       "min          0.000500      0.001500     1.000000  \n",
       "25%          0.093500      0.130000     8.000000  \n",
       "50%          0.171000      0.234000     9.000000  \n",
       "75%          0.253000      0.329000    11.000000  \n",
       "max          0.760000      1.005000    29.000000  "
      ]
     },
     "execution_count": 3,
     "metadata": {},
     "output_type": "execute_result"
    }
   ],
   "source": [
    "df.describe()"
   ]
  },
  {
   "cell_type": "code",
   "execution_count": null,
   "id": "9b790938-95b6-4994-9d72-5b6d606e1ded",
   "metadata": {},
   "outputs": [],
   "source": []
  },
  {
   "cell_type": "markdown",
   "id": "52a8fc7b",
   "metadata": {},
   "source": [
    "## Data Preprocessing"
   ]
  },
  {
   "cell_type": "code",
   "execution_count": 4,
   "id": "550545e2",
   "metadata": {},
   "outputs": [
    {
     "data": {
      "text/plain": [
       "Sex                object\n",
       "Length            float64\n",
       "Diameter          float64\n",
       "Height            float64\n",
       "Whole_weight      float64\n",
       "Shucked_weight    float64\n",
       "Viscera_weight    float64\n",
       "Shell_weight      float64\n",
       "Rings               int64\n",
       "dtype: object"
      ]
     },
     "execution_count": 4,
     "metadata": {},
     "output_type": "execute_result"
    }
   ],
   "source": [
    "df.dtypes"
   ]
  },
  {
   "cell_type": "code",
   "execution_count": 5,
   "id": "11ad9af4",
   "metadata": {},
   "outputs": [
    {
     "data": {
      "text/plain": [
       "Sex               False\n",
       "Length            False\n",
       "Diameter          False\n",
       "Height            False\n",
       "Whole_weight      False\n",
       "Shucked_weight    False\n",
       "Viscera_weight    False\n",
       "Shell_weight      False\n",
       "Rings             False\n",
       "dtype: bool"
      ]
     },
     "execution_count": 5,
     "metadata": {},
     "output_type": "execute_result"
    }
   ],
   "source": [
    "df.isna().any()"
   ]
  },
  {
   "cell_type": "code",
   "execution_count": 6,
   "id": "828bd6fc",
   "metadata": {},
   "outputs": [
    {
     "data": {
      "text/plain": [
       "array([['M'],\n",
       "       ['M'],\n",
       "       ['F'],\n",
       "       ...,\n",
       "       ['M'],\n",
       "       ['F'],\n",
       "       ['M']], shape=(4177, 1), dtype=object)"
      ]
     },
     "execution_count": 6,
     "metadata": {},
     "output_type": "execute_result"
    }
   ],
   "source": [
    "sex = df[[\"Sex\"]].iloc[:].values\n",
    "sex"
   ]
  },
  {
   "cell_type": "code",
   "execution_count": 7,
   "id": "8dd9ca31",
   "metadata": {},
   "outputs": [
    {
     "data": {
      "text/plain": [
       "array(['M'], dtype=object)"
      ]
     },
     "execution_count": 7,
     "metadata": {},
     "output_type": "execute_result"
    }
   ],
   "source": [
    "sex[0]"
   ]
  },
  {
   "cell_type": "code",
   "execution_count": 8,
   "id": "4084750d",
   "metadata": {},
   "outputs": [
    {
     "data": {
      "text/plain": [
       "(array([   0,    1,    3, ..., 4173, 4174, 4176], shape=(1528,)),\n",
       " array([0, 0, 0, ..., 0, 0, 0], shape=(1528,)))"
      ]
     },
     "execution_count": 8,
     "metadata": {},
     "output_type": "execute_result"
    }
   ],
   "source": [
    "np.where(sex==['M'])"
   ]
  },
  {
   "cell_type": "code",
   "execution_count": 9,
   "id": "3bdf2e9f-f7f8-4705-9502-55ef617233e2",
   "metadata": {},
   "outputs": [],
   "source": [
    "\n",
    "col_name = [\"Sex\",\t\n",
    "\t\"Length\",\t\t\n",
    "\t\"Diameter\",\t\n",
    "\t\"Height\",\t\t\n",
    "\t\"Whole_weight\",\t\n",
    "\t\"Shucked_weight\",\t\n",
    "\t\"Viscera_weight\",\t\n",
    "\t\"Shell_weight\",\t\n",
    "\t\"Rings\"]\t\t"
   ]
  },
  {
   "cell_type": "code",
   "execution_count": 10,
   "id": "9ab7aaf1-bbe9-492e-97b7-ce90c353bd17",
   "metadata": {},
   "outputs": [
    {
     "data": {
      "text/plain": [
       "array([[0.455 , 0.365 , 0.095 , ..., 0.2245, 0.101 , 0.15  ],\n",
       "       [0.35  , 0.265 , 0.09  , ..., 0.0995, 0.0485, 0.07  ],\n",
       "       [0.53  , 0.42  , 0.135 , ..., 0.2565, 0.1415, 0.21  ],\n",
       "       ...,\n",
       "       [0.6   , 0.475 , 0.205 , ..., 0.5255, 0.2875, 0.308 ],\n",
       "       [0.625 , 0.485 , 0.15  , ..., 0.531 , 0.261 , 0.296 ],\n",
       "       [0.71  , 0.555 , 0.195 , ..., 0.9455, 0.3765, 0.495 ]],\n",
       "      shape=(4177, 7))"
      ]
     },
     "execution_count": 10,
     "metadata": {},
     "output_type": "execute_result"
    }
   ],
   "source": [
    "X = df.drop([\"Sex\",\"Rings\"], axis=1).values\n",
    "X"
   ]
  },
  {
   "cell_type": "code",
   "execution_count": 11,
   "id": "1b5b1839-6761-4cd7-8169-6f76b1c1ee70",
   "metadata": {},
   "outputs": [
    {
     "data": {
      "text/plain": [
       "(4177, 7)"
      ]
     },
     "execution_count": 11,
     "metadata": {},
     "output_type": "execute_result"
    }
   ],
   "source": [
    "X.shape"
   ]
  },
  {
   "cell_type": "code",
   "execution_count": 12,
   "id": "f9734c81-d0df-473a-bee0-7389af9b2b2d",
   "metadata": {},
   "outputs": [],
   "source": [
    "y = df[\"Rings\"].values"
   ]
  },
  {
   "cell_type": "code",
   "execution_count": 13,
   "id": "f3f001d1-5ff5-468a-9e15-1133d3686223",
   "metadata": {},
   "outputs": [
    {
     "data": {
      "text/plain": [
       "array([[15],\n",
       "       [ 7],\n",
       "       [ 9],\n",
       "       ...,\n",
       "       [ 9],\n",
       "       [10],\n",
       "       [12]], shape=(4177, 1))"
      ]
     },
     "execution_count": 13,
     "metadata": {},
     "output_type": "execute_result"
    }
   ],
   "source": [
    "y = y.reshape(1,-1).transpose()\n",
    "y"
   ]
  },
  {
   "cell_type": "code",
   "execution_count": 14,
   "id": "5714e5fa-fb7c-4594-9e56-0387bfc42e6d",
   "metadata": {},
   "outputs": [
    {
     "data": {
      "text/plain": [
       "(4177, 1)"
      ]
     },
     "execution_count": 14,
     "metadata": {},
     "output_type": "execute_result"
    }
   ],
   "source": [
    "y.shape"
   ]
  },
  {
   "cell_type": "markdown",
   "id": "e8085bc2",
   "metadata": {},
   "source": [
    "### Spliting Data"
   ]
  },
  {
   "cell_type": "code",
   "execution_count": 16,
   "id": "c8060331-698c-4e5c-b622-e65938a1ff04",
   "metadata": {},
   "outputs": [],
   "source": [
    "X_train, X_test, y_train, y_test = train_test_split(X, y, test_size=0.2, random_state=42)"
   ]
  },
  {
   "cell_type": "code",
   "execution_count": 17,
   "id": "5cb01a7e-ed51-411e-9c7b-0188d5c27f81",
   "metadata": {},
   "outputs": [
    {
     "data": {
      "text/plain": [
       "array([[0.55  , 0.445 , 0.125 , ..., 0.288 , 0.1365, 0.21  ],\n",
       "       [0.475 , 0.355 , 0.1   , ..., 0.2535, 0.091 , 0.14  ],\n",
       "       [0.305 , 0.225 , 0.07  , ..., 0.0585, 0.0335, 0.045 ],\n",
       "       ...,\n",
       "       [0.51  , 0.395 , 0.125 , ..., 0.244 , 0.1335, 0.188 ],\n",
       "       [0.575 , 0.465 , 0.12  , ..., 0.516 , 0.2185, 0.235 ],\n",
       "       [0.595 , 0.475 , 0.16  , ..., 0.547 , 0.231 , 0.271 ]],\n",
       "      shape=(3341, 7))"
      ]
     },
     "execution_count": 17,
     "metadata": {},
     "output_type": "execute_result"
    }
   ],
   "source": [
    "X_train"
   ]
  },
  {
   "cell_type": "markdown",
   "id": "cd1c7aba",
   "metadata": {},
   "source": [
    "## Models"
   ]
  },
  {
   "cell_type": "markdown",
   "id": "502837e7",
   "metadata": {
    "jp-MarkdownHeadingCollapsed": true
   },
   "source": [
    "### Linear Regression\n",
    "\n",
    "$$ MSE(\\beta)  = ||Y - X\\beta||^2_2$$\n",
    "$$ \\nabla MSE(\\beta) = 0 $$ \n",
    "$$ \\beta = (X^TX)^{-1}X^Ty $$"
   ]
  },
  {
   "cell_type": "code",
   "execution_count": 17,
   "id": "2e2b282c-989f-4fe2-bdbd-86cc85431767",
   "metadata": {
    "jupyter": {
     "source_hidden": true
    }
   },
   "outputs": [
    {
     "data": {
      "text/plain": [
       "5.055541144299382"
      ]
     },
     "execution_count": 17,
     "metadata": {},
     "output_type": "execute_result"
    }
   ],
   "source": [
    "lr_model = linear_model.LinearRegression()\n",
    "lr_model.fit(X_train, y_train)\n",
    "\n",
    "y_pred = lr_model.predict(X_test)\n",
    "\n",
    "mean_squared_error(y_test, y_pred)"
   ]
  },
  {
   "cell_type": "markdown",
   "id": "cd266618",
   "metadata": {},
   "source": [
    "### Ridge Regression\n",
    "\n",
    "\n",
    "**Pros**:\n",
    "\n",
    "- Reduces Overfitting:</br>\n",
    "*By adding a penalty for large coefficients, ridge regression shrinks the coefficients, thus reducing the model's variance and preventing it from fitting the training data too closely, which improves its generalization ability on unseen data.* \n",
    "\n",
    "- Handles Multicollinearity:</br>\n",
    "*When independent variables are highly correlated, ridge regression helps stabilize the model by distributing the impact of these correlated features across their coefficients, making the model more robust.*\n",
    "\n",
    "- Good for Prediction:</br>\n",
    "*Ridge regression is particularly useful when the goal is to build a predictive model where all features are expected to contribute to the outcome, even if some have less influence.*\n",
    "\n",
    "- Keeps All Features:</br>\n",
    "*Unlike `Lasso regression`, ridge regression keeps all features in the model, even if their coefficients are shrunk, which can be beneficial when all features are relevant.*\n",
    "\n",
    "**Cons:**\n",
    "\n",
    "- No Feature Selection:</br>\n",
    "*Ridge regression does not perform feature selection, meaning it doesn't set any coefficients to zero. This means that all features remain in the model, which can be a drawback when dealing with a large number of features.*\n",
    "\n",
    "- Reduced Interpretability:</br>\n",
    "*Shrinking the coefficients can make it harder to interpret the individual importance of each feature, as their effects are distributed across multiple features.*\n",
    "\n",
    "- Requires Tuning Hyperparameter:</br>\n",
    "*Ridge regression involves a hyperparameter (lambda or alpha) that controls the amount of regularization. Finding the optimal value for this parameter often requires cross-validation, adding to the complexity of the process.*\n",
    "\n",
    "- Not Ideal for Sparsity:</br>\n",
    "*If the goal is to create a sparse model with only a few important features, Lasso regression (which uses L1 regularization) is a better choice than ridge regression.*\n",
    "\n",
    "\n",
    "**Formula:**\n",
    "\n",
    "\n",
    "$$ Cost(\\beta)  = ||Y - X\\beta||^2_2 + \\lambda ||\\beta||^2_2$$\n",
    "$$ \\nabla Cost(\\beta) = 0 $$ \n",
    "$$ \\beta = (X^TX + I\\lambda)^{-1}X^Ty $$"
   ]
  },
  {
   "cell_type": "code",
   "execution_count": 18,
   "id": "2123f361-9e22-46c4-985b-c2c523a673cf",
   "metadata": {
    "jupyter": {
     "source_hidden": true
    }
   },
   "outputs": [
    {
     "data": {
      "text/plain": [
       "5.057961921231911"
      ]
     },
     "execution_count": 18,
     "metadata": {},
     "output_type": "execute_result"
    }
   ],
   "source": [
    "rg_model = linear_model.Ridge(alpha=0.1)\n",
    "rg_model.fit(X_train,y_train)\n",
    "\n",
    "y_pred = rg_model.predict(X_test)\n",
    "\n",
    "mean_squared_error(y_test, y_pred)"
   ]
  },
  {
   "cell_type": "markdown",
   "id": "459be3d8",
   "metadata": {},
   "source": [
    "### Lasso Regression\n",
    "\n",
    "**Pros:**\n",
    "\n",
    "- Feature Selection:</br>\n",
    "*Lasso regression can automatically select relevant features by shrinking the coefficients of less important ones to zero, simplifying the model and improving interpretability.*\n",
    "\n",
    "- Handles High-Dimensional Data:</br>\n",
    "*It can effectively manage datasets with many features, a common scenario in fields like genomics and image processing.*\n",
    "\n",
    "- Reduced Overfitting:</br>\n",
    "*By shrinking coefficients, Lasso regression helps prevent overfitting, leading to better generalization to unseen data.*\n",
    "\n",
    "- Computational Efficiency:</br>\n",
    "*Lasso is generally computationally efficient, making it suitable for large datasets.*\n",
    "\n",
    "**Cons:**\n",
    "\n",
    "- Selection Bias with Correlated Features:</br>\n",
    "*When features are highly correlated, Lasso tends to arbitrarily select one and discard the others, potentially leading to biased results.*\n",
    "\n",
    "- Sensitivity to Scaling:</br>\n",
    "*Features with different scales can impact the regularization process and affect the model's accuracy.*\n",
    "\n",
    "- Outlier Sensitivity:</br>\n",
    "*Lasso can be sensitive to outliers, which can disproportionately influence the model's coefficients and lead to overfitting.*\n",
    "\n",
    "- Potential Instability:</br>\n",
    "*The feature selection process can be unstable, meaning that small changes in the data can lead to different features being selected.*\n",
    "\n",
    "- Interpretability Challenges:</br>\n",
    "*While Lasso can simplify the model, the selection of features might not always be easily interpretable.*\n",
    "\n",
    "- Model Selection Complexity:</br>\n",
    "*Determining the optimal regularization parameter (alpha) can be challenging and may require `cross-validation`.*\n",
    "\n",
    "- May not be Optimal for Prediction:</br>\n",
    "*While Lasso is good for feature selection, some sources suggest it may not always provide the best prediction performance compared to other methods like Ridge regression, especially when dealing with correlated features.*\n",
    "\n",
    "**Formula:**\n",
    "$$ Cost(\\beta)  = ||Y - X\\beta||^2_2 + \\lambda||\\beta||_1$$ \n",
    "$$ \\nabla Cost(\\beta) = 0 $$"
   ]
  },
  {
   "cell_type": "code",
   "execution_count": 24,
   "id": "2a6d4089",
   "metadata": {
    "jupyter": {
     "source_hidden": true
    }
   },
   "outputs": [
    {
     "data": {
      "text/plain": [
       "5.317912405795542"
      ]
     },
     "execution_count": 24,
     "metadata": {},
     "output_type": "execute_result"
    }
   ],
   "source": [
    "la_model = linear_model.Lasso(alpha=.01)\n",
    "\n",
    "la_model.fit(X_train,y_train)\n",
    "\n",
    "y_pred = la_model.predict(X_test)\n",
    "\n",
    "mean_squared_error(y_test, y_pred)"
   ]
  },
  {
   "cell_type": "markdown",
   "id": "612443dc-a3d9-4bb8-aaad-614b8baa02de",
   "metadata": {},
   "source": [
    "### Elastic Net Regression\n",
    "**Pros:**\n",
    "\n",
    "- Handles multicollinearity:</br>\n",
    "*Elastic net is effective in situations where features are highly correlated, a common challenge in many datasets.*\n",
    "\n",
    "- Feature selection:</br>\n",
    "*It can automatically select relevant features by shrinking the coefficients of less important ones towards zero, similar to Lasso.*\n",
    "\n",
    "- Improved prediction accuracy:</br>\n",
    "*By combining L1 and L2 penalties, it can provide more stable and accurate predictions than Lasso or Ridge alone, especially in high-dimensional data.*\n",
    "\n",
    "- Flexibility:</br>\n",
    "*It allows for a balance between variable selection (L1 penalty) and handling multicollinearity (L2 penalty) by adjusting the alpha parameter.*\n",
    "\n",
    "**Cons:**\n",
    "\n",
    "- Complexity in tuning:</br>\n",
    "*Elastic net involves two regularization parameters (alpha and lambda), making the tuning process more complex compared to simpler models like Ridge or Lasso.*\n",
    "\n",
    "- Potential for information loss:</br>\n",
    "*While it selects features, it might still remove useful features if not tuned properly, especially in high-dimensional spaces.* \n",
    "\n",
    "- Interpretability challenges:</br>\n",
    "*While better than some methods, interpreting the model's coefficients can be more challenging than with simpler models.*\n",
    "\n",
    "- Computational cost:</br>\n",
    "*Tuning and fitting the model can be more computationally expensive than simpler methods, especially with large datasets.*\n",
    "\n",
    "$$ Cost(\\beta)  = ||Y - X\\beta||^2_2 + \\lambda_1||\\beta||_1 + \\lambda_2||\\beta||^2_2$$ \n",
    "$$ \\nabla Cost(\\beta) = 0 $$"
   ]
  },
  {
   "cell_type": "code",
   "execution_count": 20,
   "id": "8d760742",
   "metadata": {
    "jupyter": {
     "source_hidden": true
    }
   },
   "outputs": [
    {
     "data": {
      "text/plain": [
       "10.050325006346077"
      ]
     },
     "execution_count": 20,
     "metadata": {},
     "output_type": "execute_result"
    }
   ],
   "source": [
    "elastic_model = linear_model.ElasticNet(random_state=0)\n",
    "elastic_model.fit(X_train, y_train)\n",
    "\n",
    "y_pred = elastic_model.predict(X_test)\n",
    "mean_squared_error(y_test, y_pred)"
   ]
  },
  {
   "cell_type": "markdown",
   "id": "f1735c4c-de26-4d30-8b7b-543e6703efbd",
   "metadata": {},
   "source": [
    "### Decision Tree Regression"
   ]
  },
  {
   "cell_type": "code",
   "execution_count": 21,
   "id": "fff07bf7-fcd1-465d-a4bd-8d2f34d57940",
   "metadata": {},
   "outputs": [
    {
     "data": {
      "text/plain": [
       "5.389993233280394"
      ]
     },
     "execution_count": 21,
     "metadata": {},
     "output_type": "execute_result"
    }
   ],
   "source": [
    "dt_model = tree.DecisionTreeRegressor(max_depth=6)\n",
    "dt_model.fit(X_train, y_train)\n",
    "\n",
    "y_pred = dt_model.predict(X_test)\n",
    "\n",
    "mean_squared_error(y_test, y_pred)"
   ]
  },
  {
   "cell_type": "markdown",
   "id": "818742c0",
   "metadata": {},
   "source": [
    "### Random Forest Regression"
   ]
  },
  {
   "cell_type": "code",
   "execution_count": 22,
   "id": "35d538c2-7396-4e54-b2e4-a290d69b64bb",
   "metadata": {},
   "outputs": [
    {
     "name": "stderr",
     "output_type": "stream",
     "text": [
      "/home/reza/Pro/Projects/ML/venv/lib/python3.13/site-packages/sklearn/base.py:1389: DataConversionWarning: A column-vector y was passed when a 1d array was expected. Please change the shape of y to (n_samples,), for example using ravel().\n",
      "  return fit_method(estimator, *args, **kwargs)\n"
     ]
    },
    {
     "data": {
      "text/plain": [
       "5.065186030207752"
      ]
     },
     "execution_count": 22,
     "metadata": {},
     "output_type": "execute_result"
    }
   ],
   "source": [
    "rf_model = ensemble.RandomForestRegressor(max_depth=6, random_state=64)\n",
    "rf_model.fit(X_train, y_train)\n",
    "\n",
    "y_pred = rf_model.predict(X_test)\n",
    "\n",
    "mean_squared_error(y_test, y_pred)"
   ]
  },
  {
   "cell_type": "markdown",
   "id": "23113316",
   "metadata": {},
   "source": [
    "### GBoostRegression"
   ]
  },
  {
   "cell_type": "code",
   "execution_count": 23,
   "id": "3f302caf-add6-4a74-b725-04feb09d6c46",
   "metadata": {},
   "outputs": [
    {
     "name": "stderr",
     "output_type": "stream",
     "text": [
      "/home/reza/Pro/Projects/ML/venv/lib/python3.13/site-packages/sklearn/ensemble/_gb.py:672: DataConversionWarning: A column-vector y was passed when a 1d array was expected. Please change the shape of y to (n_samples, ), for example using ravel().\n",
      "  y = column_or_1d(y, warn=True)  # TODO: Is this still required?\n"
     ]
    },
    {
     "data": {
      "text/plain": [
       "5.097569454795717"
      ]
     },
     "execution_count": 23,
     "metadata": {},
     "output_type": "execute_result"
    }
   ],
   "source": [
    "params = {\n",
    "    \"n_estimators\": 500,\n",
    "    \"max_depth\": 4,\n",
    "    \"min_samples_split\": 5,\n",
    "    \"learning_rate\": 0.01,\n",
    "    \"loss\": \"squared_error\",\n",
    "}\n",
    "\n",
    "gb_model = ensemble.GradientBoostingRegressor(**params)\n",
    "gb_model.fit(X_train, y_train)\n",
    "\n",
    "mean_squared_error(gb_model.predict(X_test), y_test)"
   ]
  },
  {
   "cell_type": "code",
   "execution_count": null,
   "id": "edc6dcd7-8841-45e1-bcf4-4285c5f1b7c7",
   "metadata": {},
   "outputs": [],
   "source": []
  },
  {
   "cell_type": "code",
   "execution_count": null,
   "id": "b81602ca-097e-4596-902e-ff3d910dec88",
   "metadata": {},
   "outputs": [],
   "source": []
  }
 ],
 "metadata": {
  "kernelspec": {
   "display_name": "venv",
   "language": "python",
   "name": "python3"
  },
  "language_info": {
   "codemirror_mode": {
    "name": "ipython",
    "version": 3
   },
   "file_extension": ".py",
   "mimetype": "text/x-python",
   "name": "python",
   "nbconvert_exporter": "python",
   "pygments_lexer": "ipython3",
   "version": "3.13.3"
  }
 },
 "nbformat": 4,
 "nbformat_minor": 5
}
