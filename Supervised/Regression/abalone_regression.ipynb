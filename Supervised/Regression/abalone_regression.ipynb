{
 "cells": [
  {
   "cell_type": "markdown",
   "id": "dc52d103-e9a5-4d44-8e02-19e26ba359e9",
   "metadata": {},
   "source": [
    "# Regression\n",
    "This analysis is divided into several parts.\n",
    "1) In the first section, we have imported the necessary libraries.\n",
    "2) In the next section, we imported the dataset."
   ]
  },
  {
   "cell_type": "markdown",
   "id": "4aabdd34-a7b3-4023-8d01-ca9eaab34a13",
   "metadata": {},
   "source": [
    "# Abalone Dataset\n",
    "Predicting the age of abalone from physical measurements.  The age of abalone is determined by cutting the shell through the cone, staining it, and counting the number of rings through a microscope -- a boring and time-consuming task.  Other measurements, which are easier to obtain, are used to predict the age.  Further information, such as weather patterns and location (hence food availability) may be required to solve the problem.\n",
    "\n",
    "From the original data examples with missing values were removed (the majority having the predicted value missing), and the ranges of the continuous values have been scaled for use with an ANN (by dividing by 200).\n",
    "\n",
    "[Get Dataset](https://archive.ics.uci.edu/dataset/1/abalone)"
   ]
  },
  {
   "cell_type": "markdown",
   "id": "5fbe42a8-617c-4622-b680-804f13c1e60f",
   "metadata": {},
   "source": [
    "| Variable Name        | Role           | Type  |Description|Units\t| Missing Values|\n",
    "| ------------- |:-------------:| :-------------:|:-------------:|:-------------:|-----:|\n",
    "| Sex     | Feature | Categorical |M, F, and I (infant) | |no|\n",
    "| Length  | Feature | Continuous |Longest shell measurement |mm |no|\n",
    "| Diameter |\tFeature\t| Continuous |\tperpendicular to length |\tmm |\tno|\n",
    "| Height |\tFeature |\tContinuous |\twith meat in shell |\tmm |\tno|\n",
    "|Whole_weight\t| Feature |\tContinuous |\twhole abalone |\tgrams\t| no |\n",
    "| Shucked_weight\t| Feature |\tContinuous |\tweight of meat |\tgrams |\tno |\n",
    "| Viscera_weight\t| Feature |\tContinuous\t| gut weight (after bleeding) |\tgrams |\tno |\n",
    "| Shell_weight |\tFeature\t| Continuous |\tafter being dried |\tgrams |\tno |\n",
    "| Rings |\tTarget |\tInteger |\t+1.5 gives the age in years| |\t\tno|\n"
   ]
  },
  {
   "cell_type": "markdown",
   "id": "cc78b585",
   "metadata": {},
   "source": [
    "## Import libraries"
   ]
  },
  {
   "cell_type": "code",
   "execution_count": 1,
   "id": "179dfbe1-e7cc-4f97-bedc-7ad8bebf898a",
   "metadata": {},
   "outputs": [],
   "source": [
    "import numpy as np\n",
    "import pandas as pd\n",
    "import matplotlib.pyplot as plt\n",
    "import seaborn as sn\n",
    "from sklearn import preprocessing\n",
    "from sklearn.model_selection import train_test_split\n",
    "from sklearn import linear_model\n",
    "from sklearn import tree\n",
    "from sklearn import ensemble \n",
    "from sklearn.metrics import mean_squared_error"
   ]
  },
  {
   "cell_type": "markdown",
   "id": "67d4d054",
   "metadata": {},
   "source": [
    "## Load Dataset "
   ]
  },
  {
   "cell_type": "code",
   "execution_count": 2,
   "id": "ddff4731-518f-4e1d-8fce-e72e7480c2fd",
   "metadata": {},
   "outputs": [
    {
     "data": {
      "text/html": [
       "<div>\n",
       "<style scoped>\n",
       "    .dataframe tbody tr th:only-of-type {\n",
       "        vertical-align: middle;\n",
       "    }\n",
       "\n",
       "    .dataframe tbody tr th {\n",
       "        vertical-align: top;\n",
       "    }\n",
       "\n",
       "    .dataframe thead th {\n",
       "        text-align: right;\n",
       "    }\n",
       "</style>\n",
       "<table border=\"1\" class=\"dataframe\">\n",
       "  <thead>\n",
       "    <tr style=\"text-align: right;\">\n",
       "      <th></th>\n",
       "      <th>Sex</th>\n",
       "      <th>Length</th>\n",
       "      <th>Diameter</th>\n",
       "      <th>Height</th>\n",
       "      <th>Whole_weight</th>\n",
       "      <th>Shucked_weight</th>\n",
       "      <th>Viscera_weight</th>\n",
       "      <th>Shell_weight</th>\n",
       "      <th>Rings</th>\n",
       "    </tr>\n",
       "  </thead>\n",
       "  <tbody>\n",
       "    <tr>\n",
       "      <th>0</th>\n",
       "      <td>M</td>\n",
       "      <td>0.455</td>\n",
       "      <td>0.365</td>\n",
       "      <td>0.095</td>\n",
       "      <td>0.5140</td>\n",
       "      <td>0.2245</td>\n",
       "      <td>0.1010</td>\n",
       "      <td>0.150</td>\n",
       "      <td>15</td>\n",
       "    </tr>\n",
       "    <tr>\n",
       "      <th>1</th>\n",
       "      <td>M</td>\n",
       "      <td>0.350</td>\n",
       "      <td>0.265</td>\n",
       "      <td>0.090</td>\n",
       "      <td>0.2255</td>\n",
       "      <td>0.0995</td>\n",
       "      <td>0.0485</td>\n",
       "      <td>0.070</td>\n",
       "      <td>7</td>\n",
       "    </tr>\n",
       "    <tr>\n",
       "      <th>2</th>\n",
       "      <td>F</td>\n",
       "      <td>0.530</td>\n",
       "      <td>0.420</td>\n",
       "      <td>0.135</td>\n",
       "      <td>0.6770</td>\n",
       "      <td>0.2565</td>\n",
       "      <td>0.1415</td>\n",
       "      <td>0.210</td>\n",
       "      <td>9</td>\n",
       "    </tr>\n",
       "    <tr>\n",
       "      <th>3</th>\n",
       "      <td>M</td>\n",
       "      <td>0.440</td>\n",
       "      <td>0.365</td>\n",
       "      <td>0.125</td>\n",
       "      <td>0.5160</td>\n",
       "      <td>0.2155</td>\n",
       "      <td>0.1140</td>\n",
       "      <td>0.155</td>\n",
       "      <td>10</td>\n",
       "    </tr>\n",
       "    <tr>\n",
       "      <th>4</th>\n",
       "      <td>I</td>\n",
       "      <td>0.330</td>\n",
       "      <td>0.255</td>\n",
       "      <td>0.080</td>\n",
       "      <td>0.2050</td>\n",
       "      <td>0.0895</td>\n",
       "      <td>0.0395</td>\n",
       "      <td>0.055</td>\n",
       "      <td>7</td>\n",
       "    </tr>\n",
       "  </tbody>\n",
       "</table>\n",
       "</div>"
      ],
      "text/plain": [
       "  Sex  Length  Diameter  Height  Whole_weight  Shucked_weight  Viscera_weight  \\\n",
       "0   M   0.455     0.365   0.095        0.5140          0.2245          0.1010   \n",
       "1   M   0.350     0.265   0.090        0.2255          0.0995          0.0485   \n",
       "2   F   0.530     0.420   0.135        0.6770          0.2565          0.1415   \n",
       "3   M   0.440     0.365   0.125        0.5160          0.2155          0.1140   \n",
       "4   I   0.330     0.255   0.080        0.2050          0.0895          0.0395   \n",
       "\n",
       "   Shell_weight  Rings  \n",
       "0         0.150     15  \n",
       "1         0.070      7  \n",
       "2         0.210      9  \n",
       "3         0.155     10  \n",
       "4         0.055      7  "
      ]
     },
     "execution_count": 2,
     "metadata": {},
     "output_type": "execute_result"
    }
   ],
   "source": [
    "df = pd.read_csv(\"./data/abalone/abalone.csv\")\n",
    "df.head()"
   ]
  },
  {
   "cell_type": "markdown",
   "id": "52a8fc7b",
   "metadata": {},
   "source": [
    "## Data Preprocessing"
   ]
  },
  {
   "cell_type": "code",
   "execution_count": 4,
   "id": "550545e2",
   "metadata": {},
   "outputs": [
    {
     "data": {
      "text/plain": [
       "Sex                object\n",
       "Length            float64\n",
       "Diameter          float64\n",
       "Height            float64\n",
       "Whole_weight      float64\n",
       "Shucked_weight    float64\n",
       "Viscera_weight    float64\n",
       "Shell_weight      float64\n",
       "Rings               int64\n",
       "dtype: object"
      ]
     },
     "execution_count": 4,
     "metadata": {},
     "output_type": "execute_result"
    }
   ],
   "source": [
    "df.dtypes"
   ]
  },
  {
   "cell_type": "code",
   "execution_count": 5,
   "id": "11ad9af4",
   "metadata": {},
   "outputs": [
    {
     "data": {
      "text/plain": [
       "Sex               False\n",
       "Length            False\n",
       "Diameter          False\n",
       "Height            False\n",
       "Whole_weight      False\n",
       "Shucked_weight    False\n",
       "Viscera_weight    False\n",
       "Shell_weight      False\n",
       "Rings             False\n",
       "dtype: bool"
      ]
     },
     "execution_count": 5,
     "metadata": {},
     "output_type": "execute_result"
    }
   ],
   "source": [
    "df.isna().any()"
   ]
  },
  {
   "cell_type": "code",
   "execution_count": 6,
   "id": "828bd6fc",
   "metadata": {},
   "outputs": [
    {
     "data": {
      "text/plain": [
       "array([['M'],\n",
       "       ['M'],\n",
       "       ['F'],\n",
       "       ...,\n",
       "       ['M'],\n",
       "       ['F'],\n",
       "       ['M']], shape=(4177, 1), dtype=object)"
      ]
     },
     "execution_count": 6,
     "metadata": {},
     "output_type": "execute_result"
    }
   ],
   "source": [
    "sex = df[[\"Sex\"]].iloc[:].values\n",
    "sex"
   ]
  },
  {
   "cell_type": "code",
   "execution_count": 7,
   "id": "8dd9ca31",
   "metadata": {},
   "outputs": [
    {
     "data": {
      "text/plain": [
       "array(['M'], dtype=object)"
      ]
     },
     "execution_count": 7,
     "metadata": {},
     "output_type": "execute_result"
    }
   ],
   "source": [
    "sex[0]"
   ]
  },
  {
   "cell_type": "code",
   "execution_count": 8,
   "id": "4084750d",
   "metadata": {},
   "outputs": [
    {
     "data": {
      "text/plain": [
       "(array([   0,    1,    3, ..., 4173, 4174, 4176], shape=(1528,)),\n",
       " array([0, 0, 0, ..., 0, 0, 0], shape=(1528,)))"
      ]
     },
     "execution_count": 8,
     "metadata": {},
     "output_type": "execute_result"
    }
   ],
   "source": [
    "np.where(sex==['M'])"
   ]
  },
  {
   "cell_type": "code",
   "execution_count": 9,
   "id": "3bdf2e9f-f7f8-4705-9502-55ef617233e2",
   "metadata": {},
   "outputs": [],
   "source": [
    "\n",
    "col_name = [\"Sex\",\t\n",
    "\t\"Length\",\t\t\n",
    "\t\"Diameter\",\t\n",
    "\t\"Height\",\t\t\n",
    "\t\"Whole_weight\",\t\n",
    "\t\"Shucked_weight\",\t\n",
    "\t\"Viscera_weight\",\t\n",
    "\t\"Shell_weight\",\t\n",
    "\t\"Rings\"]\t\t"
   ]
  },
  {
   "cell_type": "code",
   "execution_count": 10,
   "id": "9ab7aaf1-bbe9-492e-97b7-ce90c353bd17",
   "metadata": {},
   "outputs": [],
   "source": [
    "X = df.drop([\"Sex\",\"Rings\"], axis=1).values"
   ]
  },
  {
   "cell_type": "code",
   "execution_count": 11,
   "id": "dcd839f8-d9ea-43ac-9d94-6c263fb80f33",
   "metadata": {},
   "outputs": [
    {
     "data": {
      "text/plain": [
       "array([[0.455 , 0.365 , 0.095 , ..., 0.2245, 0.101 , 0.15  ],\n",
       "       [0.35  , 0.265 , 0.09  , ..., 0.0995, 0.0485, 0.07  ],\n",
       "       [0.53  , 0.42  , 0.135 , ..., 0.2565, 0.1415, 0.21  ],\n",
       "       ...,\n",
       "       [0.6   , 0.475 , 0.205 , ..., 0.5255, 0.2875, 0.308 ],\n",
       "       [0.625 , 0.485 , 0.15  , ..., 0.531 , 0.261 , 0.296 ],\n",
       "       [0.71  , 0.555 , 0.195 , ..., 0.9455, 0.3765, 0.495 ]],\n",
       "      shape=(4177, 7))"
      ]
     },
     "execution_count": 11,
     "metadata": {},
     "output_type": "execute_result"
    }
   ],
   "source": [
    "X"
   ]
  },
  {
   "cell_type": "code",
   "execution_count": 12,
   "id": "f9734c81-d0df-473a-bee0-7389af9b2b2d",
   "metadata": {},
   "outputs": [],
   "source": [
    "y = df[\"Rings\"].values"
   ]
  },
  {
   "cell_type": "code",
   "execution_count": 13,
   "id": "f3f001d1-5ff5-468a-9e15-1133d3686223",
   "metadata": {},
   "outputs": [],
   "source": [
    "y = y.reshape(1,-1).transpose()"
   ]
  },
  {
   "cell_type": "code",
   "execution_count": 14,
   "id": "1a45ef2d-4c80-4abe-9fd6-71bc340f2fd3",
   "metadata": {},
   "outputs": [
    {
     "data": {
      "text/plain": [
       "array([[15],\n",
       "       [ 7],\n",
       "       [ 9],\n",
       "       ...,\n",
       "       [ 9],\n",
       "       [10],\n",
       "       [12]], shape=(4177, 1))"
      ]
     },
     "execution_count": 14,
     "metadata": {},
     "output_type": "execute_result"
    }
   ],
   "source": [
    "y"
   ]
  },
  {
   "cell_type": "markdown",
   "id": "e8085bc2",
   "metadata": {},
   "source": [
    "### Spliting Data"
   ]
  },
  {
   "cell_type": "code",
   "execution_count": 15,
   "id": "c8060331-698c-4e5c-b622-e65938a1ff04",
   "metadata": {},
   "outputs": [],
   "source": [
    "X_train, X_test, y_train, y_test = train_test_split(X, y, test_size=0.2, random_state=42)"
   ]
  },
  {
   "cell_type": "code",
   "execution_count": 16,
   "id": "5cb01a7e-ed51-411e-9c7b-0188d5c27f81",
   "metadata": {},
   "outputs": [
    {
     "data": {
      "text/plain": [
       "array([[0.55  , 0.445 , 0.125 , ..., 0.288 , 0.1365, 0.21  ],\n",
       "       [0.475 , 0.355 , 0.1   , ..., 0.2535, 0.091 , 0.14  ],\n",
       "       [0.305 , 0.225 , 0.07  , ..., 0.0585, 0.0335, 0.045 ],\n",
       "       ...,\n",
       "       [0.51  , 0.395 , 0.125 , ..., 0.244 , 0.1335, 0.188 ],\n",
       "       [0.575 , 0.465 , 0.12  , ..., 0.516 , 0.2185, 0.235 ],\n",
       "       [0.595 , 0.475 , 0.16  , ..., 0.547 , 0.231 , 0.271 ]],\n",
       "      shape=(3341, 7))"
      ]
     },
     "execution_count": 16,
     "metadata": {},
     "output_type": "execute_result"
    }
   ],
   "source": [
    "X_train"
   ]
  },
  {
   "cell_type": "markdown",
   "id": "cd1c7aba",
   "metadata": {},
   "source": [
    "## Models"
   ]
  },
  {
   "cell_type": "markdown",
   "id": "502837e7",
   "metadata": {
    "jp-MarkdownHeadingCollapsed": true
   },
   "source": [
    "### Linear Regression\n",
    "\n",
    "$$ MSE(\\beta)  = ||Y - X\\beta||^2_2$$\n",
    "$$ \\nabla MSE(\\beta) = 0 $$ \n",
    "$$ \\beta = (X^TX)^{-1}X^Ty $$"
   ]
  },
  {
   "cell_type": "code",
   "execution_count": 17,
   "id": "2e2b282c-989f-4fe2-bdbd-86cc85431767",
   "metadata": {
    "jupyter": {
     "source_hidden": true
    }
   },
   "outputs": [
    {
     "data": {
      "text/plain": [
       "5.055541144299382"
      ]
     },
     "execution_count": 17,
     "metadata": {},
     "output_type": "execute_result"
    }
   ],
   "source": [
    "lr_model = linear_model.LinearRegression()\n",
    "lr_model.fit(X_train, y_train)\n",
    "\n",
    "y_pred = lr_model.predict(X_test)\n",
    "\n",
    "mean_squared_error(y_test, y_pred)"
   ]
  },
  {
   "cell_type": "markdown",
   "id": "cd266618",
   "metadata": {
    "jp-MarkdownHeadingCollapsed": true
   },
   "source": [
    "### Ridge Regression\n",
    "\n",
    "$$ Cost(\\beta)  = ||Y - X\\beta||^2_2 + \\lambda ||\\beta||^2_2$$\n",
    "$$ \\nabla Cost(\\beta) = 0 $$ \n",
    "$$ \\beta = (X^TX + I\\lambda)^{-1}X^Ty $$"
   ]
  },
  {
   "cell_type": "code",
   "execution_count": 18,
   "id": "2123f361-9e22-46c4-985b-c2c523a673cf",
   "metadata": {
    "jupyter": {
     "source_hidden": true
    }
   },
   "outputs": [
    {
     "data": {
      "text/plain": [
       "5.057961921231911"
      ]
     },
     "execution_count": 18,
     "metadata": {},
     "output_type": "execute_result"
    }
   ],
   "source": [
    "rg_model = linear_model.Ridge(alpha=0.1)\n",
    "rg_model.fit(X_train,y_train)\n",
    "\n",
    "y_pred = rg_model.predict(X_test)\n",
    "\n",
    "mean_squared_error(y_test, y_pred)"
   ]
  },
  {
   "cell_type": "markdown",
   "id": "459be3d8",
   "metadata": {
    "jp-MarkdownHeadingCollapsed": true
   },
   "source": [
    "### Lasso Regression\n",
    "\n",
    "$$ Cost(\\beta)  = ||Y - X\\beta||^2_2 + \\lambda||\\beta||_1$$ \n",
    "$$ \\nabla Cost(\\beta) = 0 $$"
   ]
  },
  {
   "cell_type": "code",
   "execution_count": 19,
   "id": "2a6d4089",
   "metadata": {
    "jupyter": {
     "source_hidden": true
    }
   },
   "outputs": [
    {
     "data": {
      "text/plain": [
       "5.317912405795542"
      ]
     },
     "execution_count": 19,
     "metadata": {},
     "output_type": "execute_result"
    }
   ],
   "source": [
    "la_model = linear_model.Lasso(alpha=.01)\n",
    "la_model.fit(X_train,y_train)\n",
    "\n",
    "y_pred = la_model.predict(X_test)\n",
    "\n",
    "mean_squared_error(y_test, y_pred)"
   ]
  },
  {
   "cell_type": "markdown",
   "id": "612443dc-a3d9-4bb8-aaad-614b8baa02de",
   "metadata": {
    "jp-MarkdownHeadingCollapsed": true
   },
   "source": [
    "### Elastic Net Regression\n",
    "\n",
    "$$ Cost(\\beta)  = ||Y - X\\beta||^2_2 + \\lambda_1||\\beta||_1 + \\lambda_2||\\beta||^2_2$$ \n",
    "$$ \\nabla Cost(\\beta) = 0 $$"
   ]
  },
  {
   "cell_type": "code",
   "execution_count": 20,
   "id": "8d760742",
   "metadata": {
    "jupyter": {
     "source_hidden": true
    }
   },
   "outputs": [
    {
     "data": {
      "text/plain": [
       "10.050325006346077"
      ]
     },
     "execution_count": 20,
     "metadata": {},
     "output_type": "execute_result"
    }
   ],
   "source": [
    "elastic_model = linear_model.ElasticNet(random_state=0)\n",
    "elastic_model.fit(X_train, y_train)\n",
    "\n",
    "y_pred = elastic_model.predict(X_test)\n",
    "mean_squared_error(y_test, y_pred)"
   ]
  },
  {
   "cell_type": "markdown",
   "id": "f1735c4c-de26-4d30-8b7b-543e6703efbd",
   "metadata": {},
   "source": [
    "### Decision Tree Regression"
   ]
  },
  {
   "cell_type": "code",
   "execution_count": 21,
   "id": "fff07bf7-fcd1-465d-a4bd-8d2f34d57940",
   "metadata": {},
   "outputs": [
    {
     "data": {
      "text/plain": [
       "5.389993233280394"
      ]
     },
     "execution_count": 21,
     "metadata": {},
     "output_type": "execute_result"
    }
   ],
   "source": [
    "dt_model = tree.DecisionTreeRegressor(max_depth=6)\n",
    "dt_model.fit(X_train, y_train)\n",
    "\n",
    "y_pred = dt_model.predict(X_test)\n",
    "\n",
    "mean_squared_error(y_test, y_pred)"
   ]
  },
  {
   "cell_type": "markdown",
   "id": "818742c0",
   "metadata": {},
   "source": [
    "### Random Forest Regression"
   ]
  },
  {
   "cell_type": "code",
   "execution_count": 22,
   "id": "35d538c2-7396-4e54-b2e4-a290d69b64bb",
   "metadata": {},
   "outputs": [
    {
     "name": "stderr",
     "output_type": "stream",
     "text": [
      "/home/reza/Pro/Projects/ML/venv/lib/python3.13/site-packages/sklearn/base.py:1389: DataConversionWarning: A column-vector y was passed when a 1d array was expected. Please change the shape of y to (n_samples,), for example using ravel().\n",
      "  return fit_method(estimator, *args, **kwargs)\n"
     ]
    },
    {
     "data": {
      "text/plain": [
       "5.065186030207752"
      ]
     },
     "execution_count": 22,
     "metadata": {},
     "output_type": "execute_result"
    }
   ],
   "source": [
    "rf_model = ensemble.RandomForestRegressor(max_depth=6, random_state=64)\n",
    "rf_model.fit(X_train, y_train)\n",
    "\n",
    "y_pred = rf_model.predict(X_test)\n",
    "\n",
    "mean_squared_error(y_test, y_pred)"
   ]
  },
  {
   "cell_type": "markdown",
   "id": "23113316",
   "metadata": {},
   "source": [
    "### GBoostRegression"
   ]
  },
  {
   "cell_type": "code",
   "execution_count": 23,
   "id": "3f302caf-add6-4a74-b725-04feb09d6c46",
   "metadata": {},
   "outputs": [
    {
     "name": "stderr",
     "output_type": "stream",
     "text": [
      "/home/reza/Pro/Projects/ML/venv/lib/python3.13/site-packages/sklearn/ensemble/_gb.py:672: DataConversionWarning: A column-vector y was passed when a 1d array was expected. Please change the shape of y to (n_samples, ), for example using ravel().\n",
      "  y = column_or_1d(y, warn=True)  # TODO: Is this still required?\n"
     ]
    },
    {
     "data": {
      "text/plain": [
       "5.097569454795717"
      ]
     },
     "execution_count": 23,
     "metadata": {},
     "output_type": "execute_result"
    }
   ],
   "source": [
    "params = {\n",
    "    \"n_estimators\": 500,\n",
    "    \"max_depth\": 4,\n",
    "    \"min_samples_split\": 5,\n",
    "    \"learning_rate\": 0.01,\n",
    "    \"loss\": \"squared_error\",\n",
    "}\n",
    "\n",
    "gb_model = ensemble.GradientBoostingRegressor(**params)\n",
    "gb_model.fit(X_train, y_train)\n",
    "\n",
    "mean_squared_error(gb_model.predict(X_test), y_test)"
   ]
  },
  {
   "cell_type": "code",
   "execution_count": null,
   "id": "edc6dcd7-8841-45e1-bcf4-4285c5f1b7c7",
   "metadata": {},
   "outputs": [],
   "source": []
  },
  {
   "cell_type": "code",
   "execution_count": null,
   "id": "b81602ca-097e-4596-902e-ff3d910dec88",
   "metadata": {},
   "outputs": [],
   "source": []
  }
 ],
 "metadata": {
  "kernelspec": {
   "display_name": "Python 3 (ipykernel)",
   "language": "python",
   "name": "python3"
  },
  "language_info": {
   "codemirror_mode": {
    "name": "ipython",
    "version": 3
   },
   "file_extension": ".py",
   "mimetype": "text/x-python",
   "name": "python",
   "nbconvert_exporter": "python",
   "pygments_lexer": "ipython3",
   "version": "3.13.3"
  }
 },
 "nbformat": 4,
 "nbformat_minor": 5
}
